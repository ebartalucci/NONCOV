{
 "cells": [
  {
   "cell_type": "code",
   "execution_count": 1,
   "id": "a2e15fc2-29dd-4cbe-8825-eded6c718c51",
   "metadata": {},
   "outputs": [],
   "source": [
    "filename = \"D:/PhD/Data/DFT/NONCOV/DFT_simulations/codes/scratch/OrcaAnalysis/split_orca_output/benzene_H2O_relaxH/splitted_orca_job1.out\"\n",
    "#filename = 'C:/Users/ettor/Desktop/NONCOV/scratch/OrcaAnalysis/split_orca_output/splitted_orca_job1.out'\n",
    "n_nuclei = 15\n",
    "import pandas as pd\n",
    "import re"
   ]
  },
  {
   "cell_type": "code",
   "execution_count": 9,
   "id": "3701c815-14ff-47a2-a163-f631b8624ba2",
   "metadata": {},
   "outputs": [],
   "source": [
    "# Get the NONCOVToolbox library and print header\n",
    "import sys\n",
    "import os\n",
    "import pandas as pd\n",
    "import matplotlib.pyplot as plt\n",
    "import glob\n",
    "import numpy as np\n",
    "from sklearn.cluster import KMeans\n",
    "import pathlib as Path\n",
    "\n",
    "path_noncov = os.path.abspath(os.path.join('..', 'src'))\n",
    "\n",
    "if path_noncov not in sys.path:\n",
    "    sys.path.append(path_noncov)\n",
    "\n",
    "from noncov import NONCOVToolbox, NONCOVHeader\n",
    "\n",
    "noncov = NONCOVToolbox()\n",
    "\n",
    "#NONCOVHeader.print_header()\n",
    "\n",
    "# Pre work on molecular geometries\n",
    "from noncov import StructureModifier\n",
    "\n",
    "# OrcaAnalysis module for postprocessing of DFT calculations\n",
    "from noncov import OrcaAnalysis\n",
    "\n",
    "# Graph molecular representations\n",
    "from noncov import MolecularGraph\n",
    "\n",
    "# Functions to store data in dataframes\n",
    "from noncov import MachineLearning\n",
    "\n",
    "# Show performance and features of various NMR functions in module\n",
    "from noncov import NMRFunctions\n",
    "\n",
    "# Display the molecule while its displaced, not yet interactive in Jupyter but interactive in VS Code\n",
    "from noncov import MolView\n",
    "\n",
    "# Disable printing\n",
    "def blockPrint():\n",
    "    sys.stdout = open(os.devnull, 'w')\n",
    "\n",
    "# Restore printing\n",
    "def enablePrint():\n",
    "    sys.stdout = sys.__stdout__"
   ]
  },
  {
   "cell_type": "code",
   "execution_count": 13,
   "id": "fc963b90-4320-43ca-90a2-ae216b3a48ce",
   "metadata": {},
   "outputs": [
    {
     "ename": "TypeError",
     "evalue": "MolecularGraph.parse_xyz() missing 1 required positional argument: 'file_path'",
     "output_type": "error",
     "traceback": [
      "\u001b[0;31m---------------------------------------------------------------------------\u001b[0m",
      "\u001b[0;31mTypeError\u001b[0m                                 Traceback (most recent call last)",
      "Cell \u001b[0;32mIn[13], line 11\u001b[0m\n\u001b[1;32m      8\u001b[0m mol_graph \u001b[38;5;241m=\u001b[39m MolecularGraph\n\u001b[1;32m     10\u001b[0m \u001b[38;5;66;03m# Parse the XYZ file\u001b[39;00m\n\u001b[0;32m---> 11\u001b[0m atom_types, coordinates \u001b[38;5;241m=\u001b[39m mol_graph\u001b[38;5;241m.\u001b[39mparse_xyz(mol_dir)\n\u001b[1;32m     13\u001b[0m \u001b[38;5;66;03m# Calculate pairwise distances\u001b[39;00m\n\u001b[1;32m     14\u001b[0m distances \u001b[38;5;241m=\u001b[39m mol_graph\u001b[38;5;241m.\u001b[39mcalculate_distances(coordinates)\n",
      "\u001b[0;31mTypeError\u001b[0m: MolecularGraph.parse_xyz() missing 1 required positional argument: 'file_path'"
     ]
    }
   ],
   "source": [
    "fragment1 =(1, 2, 3, 4, 5, 6, 7, 8, 9, 10, 11, 12)\n",
    "fragment2 = (13, 14, 15)\n",
    "\n",
    "mol_dir = '/Users/ettorebartalucci/Desktop/NONCOV/data/opt/rw_cut_5_p1_1f_opt.xyz'\n",
    "\n",
    "from noncov import MolecularGraph\n",
    "\n",
    "mol_graph = MolecularGraph\n",
    "\n",
    "# Parse the XYZ file\n",
    "atom_types, coordinates = mol_graph.parse_xyz(mol_dir)\n",
    "\n",
    "# Calculate pairwise distances\n",
    "distances = mol_graph.calculate_distances(coordinates)\n",
    "\n",
    "# Detect covalent bonds\n",
    "covalent_bonds = mol_graph.detect_bonds(atom_types, distances)\n",
    "\n",
    "# Detect non-covalent interactions\n",
    "noncovalent_interactions = mol_graph.detect_noncovalent_interactions(atom_types, distances)\n",
    "\n",
    "# Build the molecular graph\n",
    "#mol_graph = mol_graph.build_molecular_graph(atom_types, coordinates, covalent_bonds, noncovalent_interactions)\n",
    "\n",
    "# Visualize the molecular graph\n",
    "#mol_graph.draw()\n",
    "\n",
    "# Plots \n",
    "mol_graph.plot_bond_dist_matrix(covalent_bonds, distances, atom_types)\n",
    "mol_graph.plot_noncov_distance_map(noncovalent_interactions, atom_types)\n",
    "\n",
    "# Build different graphs\n",
    "covalent_bonds_graph = mol_graph.build_covalent_bonds_graph(atom_types, coordinates, covalent_bonds)\n",
    "intramolecular_graph = mol_graph.build_intramolecular_graph(atom_types, coordinates, covalent_bonds, noncovalent_interactions)\n",
    "intermolecular_graph = mol_graph.build_intermolecular_graph(atom_types, coordinates, noncovalent_interactions)\n",
    "\n",
    "# Draw subplots while preserving atom positions\n",
    "mol_graph.draw_subplots(covalent_bonds_graph, intramolecular_graph, intermolecular_graph, coordinates)\n",
    "\n",
    "\n",
    "threshold = 1.6"
   ]
  },
  {
   "cell_type": "code",
   "execution_count": null,
   "id": "276030bd-3c05-4681-bfbd-ef8f6c5961fc",
   "metadata": {},
   "outputs": [],
   "source": []
  }
 ],
 "metadata": {
  "kernelspec": {
   "display_name": "Python 3 (ipykernel)",
   "language": "python",
   "name": "python3"
  },
  "language_info": {
   "codemirror_mode": {
    "name": "ipython",
    "version": 3
   },
   "file_extension": ".py",
   "mimetype": "text/x-python",
   "name": "python",
   "nbconvert_exporter": "python",
   "pygments_lexer": "ipython3",
   "version": "3.12.7"
  }
 },
 "nbformat": 4,
 "nbformat_minor": 5
}
