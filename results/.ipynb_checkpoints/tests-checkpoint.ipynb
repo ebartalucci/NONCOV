{
 "cells": [
  {
   "cell_type": "code",
   "execution_count": 61,
   "id": "a2e15fc2-29dd-4cbe-8825-eded6c718c51",
   "metadata": {},
   "outputs": [],
   "source": [
    "filename = \"D:/PhD/Data/DFT/NONCOV/DFT_simulations/codes/scratch/OrcaAnalysis/split_orca_output/benzene_H2O_relaxH/splitted_orca_job1.out\"\n",
    "#filename = 'C:/Users/ettor/Desktop/NONCOV/scratch/OrcaAnalysis/split_orca_output/splitted_orca_job1.out'\n",
    "n_nuclei = 15\n",
    "import pandas as pd\n",
    "import re"
   ]
  },
  {
   "cell_type": "code",
   "execution_count": null,
   "id": "fc963b90-4320-43ca-90a2-ae216b3a48ce",
   "metadata": {},
   "outputs": [],
   "source": [
    "fragment1 =(1, 2, 3, 4, 5, 6, 7, 8, 9, 10, 11, 12)\n",
    "fragment2 = (13, 14, 15)\n",
    "\n",
    "mol_graph = MolecularGraph()\n",
    "\n",
    "# Parse the XYZ file\n",
    "atom_types, coordinates = mol_graph.parse_xyz(mol_dir)\n",
    "\n",
    "# Calculate pairwise distances\n",
    "distances = mol_graph.calculate_distances(coordinates)\n",
    "\n",
    "# Detect covalent bonds\n",
    "covalent_bonds = mol_graph.detect_bonds(atom_types, distances)\n",
    "\n",
    "# Detect non-covalent interactions\n",
    "noncovalent_interactions = mol_graph.detect_noncovalent_interactions(atom_types, distances)\n",
    "\n",
    "# Build the molecular graph\n",
    "#mol_graph = mol_graph.build_molecular_graph(atom_types, coordinates, covalent_bonds, noncovalent_interactions)\n",
    "\n",
    "# Visualize the molecular graph\n",
    "#mol_graph.draw()\n",
    "\n",
    "# Plots \n",
    "mol_graph.plot_bond_dist_matrix(covalent_bonds, distances, atom_types)\n",
    "mol_graph.plot_noncov_distance_map(noncovalent_interactions, atom_types)\n",
    "\n",
    "# Build different graphs\n",
    "covalent_bonds_graph = mol_graph.build_covalent_bonds_graph(atom_types, coordinates, covalent_bonds)\n",
    "intramolecular_graph = mol_graph.build_intramolecular_graph(atom_types, coordinates, covalent_bonds, noncovalent_interactions)\n",
    "intermolecular_graph = mol_graph.build_intermolecular_graph(atom_types, coordinates, noncovalent_interactions)\n",
    "\n",
    "# Draw subplots while preserving atom positions\n",
    "mol_graph.draw_subplots(covalent_bonds_graph, intramolecular_graph, intermolecular_graph, coordinates)\n",
    "\n",
    "\n",
    "threshold = 1.6"
   ]
  },
  {
   "cell_type": "code",
   "execution_count": null,
   "id": "276030bd-3c05-4681-bfbd-ef8f6c5961fc",
   "metadata": {},
   "outputs": [],
   "source": []
  }
 ],
 "metadata": {
  "kernelspec": {
   "display_name": "Python 3 (ipykernel)",
   "language": "python",
   "name": "python3"
  },
  "language_info": {
   "codemirror_mode": {
    "name": "ipython",
    "version": 3
   },
   "file_extension": ".py",
   "mimetype": "text/x-python",
   "name": "python",
   "nbconvert_exporter": "python",
   "pygments_lexer": "ipython3",
   "version": "3.12.0"
  }
 },
 "nbformat": 4,
 "nbformat_minor": 5
}
