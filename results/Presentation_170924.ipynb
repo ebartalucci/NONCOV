{
 "cells": [
  {
   "cell_type": "markdown",
   "metadata": {},
   "source": [
    "# Introducing the NONCOV Toolbox in Python"
   ]
  },
  {
   "cell_type": "markdown",
   "metadata": {},
   "source": [
    "## Introduction"
   ]
  },
  {
   "cell_type": "markdown",
   "metadata": {},
   "source": [
    "## Structure"
   ]
  },
  {
   "cell_type": "markdown",
   "metadata": {},
   "source": [
    "## Load NONCOVToolbox Library"
   ]
  },
  {
   "cell_type": "code",
   "execution_count": 7,
   "metadata": {},
   "outputs": [
    {
     "name": "stdout",
     "output_type": "stream",
     "text": [
      "\n",
      "\n",
      "          #################################################\n",
      "          | --------------------------------------------- |\n",
      "          |         (NC)^2I.py: NMR Calculations          |\n",
      "          |         for Noncovalent Interactions          |\n",
      "          | --------------------------------------------- |\n",
      "          |           Introducing: NONCOVToolbox          |\n",
      "          |                       -                       |\n",
      "          |     A collection of functions for working     |\n",
      "          |         with calculated NMR parameters        |\n",
      "          |                                               |\n",
      "          |               Ettore Bartalucci               |\n",
      "          |     Max Planck Institute CEC & RWTH Aachen    |\n",
      "          |            Worringerweg 2, Germany            |\n",
      "          |                                               |\n",
      "          #################################################\n",
      "\n",
      "Stable version: 0.0.1\n",
      "\n",
      "\n",
      "Working python version:\n",
      "3.12.0 (tags/v3.12.0:0fb18b0, Oct  2 2023, 13:03:39) [MSC v.1935 64 bit (AMD64)]\n",
      "\n",
      "\n",
      "\\* --------------------------------------------*\\\n",
      "\\            ACKNOWLEDGMENTS LIST               \\\n",
      "\\                                               \\\n",
      "\\  This work constitutes part of my PhD project \\\n",
      "\\  focusing on the detection, quantification    \\\n",
      "\\  and analysis of noncovalent interaction.     \\\n",
      "\\  The following list shall be acknowledged:    \\\n",
      "\\                                               \\\n",
      "\\  - Olivia Gammp, M.Sc. @ ETH Zurich           \\\n",
      "\\  - \n",
      "\n",
      "\\* --------------------------------------------*\\\n"
     ]
    }
   ],
   "source": [
    "import sys\n",
    "import os\n",
    "\n",
    "path_noncov = os.path.abspath(os.path.join('..', 'src'))\n",
    "\n",
    "if path_noncov not in sys.path:\n",
    "    sys.path.append(path_noncov)\n",
    "\n",
    "from noncov import NONCOVToolbox\n",
    "\n",
    "noncov = NONCOVToolbox()"
   ]
  },
  {
   "cell_type": "code",
   "execution_count": 5,
   "metadata": {},
   "outputs": [
    {
     "name": "stdout",
     "output_type": "stream",
     "text": [
      "Change with care, configuration file is in: d:\\PhD\\Data\\DFT\\NONCOV\\DFT_simulations\\codes\\config\\configuration.yml\n",
      "And looks like this...\n",
      "\n",
      "STRUCTURE =\n",
      "SCRATCH =\n",
      "\n"
     ]
    }
   ],
   "source": [
    "configdir = os.getcwd()\n",
    "configdir = os.path.abspath(os.path.join('..', 'config'))\n",
    "configs = os.path.join(configdir, 'configuration.yml')\n",
    "print(f'Change with care, configuration file is in:', configs)\n",
    "\n",
    "print('And looks like this...\\n')\n",
    "with open(configs,'r') as f:\n",
    "    config_file = f.read()\n",
    "    print(config_file)"
   ]
  },
  {
   "cell_type": "code",
   "execution_count": 6,
   "metadata": {},
   "outputs": [
    {
     "name": "stdout",
     "output_type": "stream",
     "text": [
      "Current working directory is: d:\\PhD\\Data\\DFT\\NONCOV\\DFT_simulations\\codes\\results\n"
     ]
    }
   ],
   "source": [
    "current_dir = os.getcwd()\n",
    "print(f'Current working directory is: {current_dir}')"
   ]
  },
  {
   "cell_type": "markdown",
   "metadata": {},
   "source": [
    "## Modules: OrcaAnalysis"
   ]
  },
  {
   "cell_type": "code",
   "execution_count": null,
   "metadata": {},
   "outputs": [],
   "source": []
  },
  {
   "cell_type": "markdown",
   "metadata": {},
   "source": [
    "## Modules: NMRFunctions"
   ]
  },
  {
   "cell_type": "markdown",
   "metadata": {},
   "source": [
    "## Modules: MolecularGraph"
   ]
  },
  {
   "cell_type": "markdown",
   "metadata": {},
   "source": [
    "## Modules: DistanceScanner & RotationScanner"
   ]
  },
  {
   "cell_type": "markdown",
   "metadata": {},
   "source": [
    "## Preliminary results"
   ]
  }
 ],
 "metadata": {
  "kernelspec": {
   "display_name": "Ettore_Bartalucci-IfGXvshO",
   "language": "python",
   "name": "python3"
  },
  "language_info": {
   "codemirror_mode": {
    "name": "ipython",
    "version": 3
   },
   "file_extension": ".py",
   "mimetype": "text/x-python",
   "name": "python",
   "nbconvert_exporter": "python",
   "pygments_lexer": "ipython3",
   "version": "3.12.0"
  }
 },
 "nbformat": 4,
 "nbformat_minor": 2
}
